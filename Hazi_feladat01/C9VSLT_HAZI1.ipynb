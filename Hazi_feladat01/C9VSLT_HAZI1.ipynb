{
    "metadata": {
        "kernelspec": {
            "name": "SQL",
            "display_name": "SQL",
            "language": "sql"
        },
        "language_info": {
            "name": "sql",
            "version": ""
        }
    },
    "nbformat_minor": 2,
    "nbformat": 4,
    "cells": [
        {
            "cell_type": "markdown",
            "source": [
                "Elsőként a Termék tábla különböző adatait vizsgáltam meg.\n",
                "\n",
                "- A leírás oszlop sorai, értékei, NULL sorok számai és a NULL értékek arányai\n",
                "- A Listaár oszlop értékei, átlag és a szórása\n",
                "- A Listaárak 1000-es lépték szerinti darabszámai\n",
                "- Három ember vitte fel a különböző termékek információit. A dolgozók által felvitt adatok száma, a legnagyobb és legkisebb lista árú termékek"
            ],
            "metadata": {
                "azdata_cell_guid": "1862d360-14b1-4dec-a528-2375e28b0464"
            },
            "attachments": {}
        },
        {
            "cell_type": "code",
            "source": [
                "SELECT \r\n",
                "    COUNT(*) AS 'Sorok száma (db)', \r\n",
                "    COUNT(LEIRAS) AS 'Nem NULL értékek száma (db)',\r\n",
                "    COUNT(*) - COUNT(LEIRAS) AS 'NULL értékek száma (db)',\r\n",
                "    ROUND((COUNT(*) - COUNT(LEIRAS)) * 100.0 / COUNT(*), 2) AS 'NULL értékek aránya (%)'\r\n",
                "FROM Termek"
            ],
            "metadata": {
                "azdata_cell_guid": "7971b5b9-9847-4e3f-8912-40c65e66e546",
                "language": "sql"
            },
            "outputs": [
                {
                    "output_type": "display_data",
                    "data": {
                        "text/html": "Warning: Null value is eliminated by an aggregate or other SET operation."
                    },
                    "metadata": {}
                },
                {
                    "output_type": "display_data",
                    "data": {
                        "text/html": "(1 row affected)"
                    },
                    "metadata": {}
                },
                {
                    "output_type": "display_data",
                    "data": {
                        "text/html": "Total execution time: 00:00:00.026"
                    },
                    "metadata": {}
                },
                {
                    "output_type": "execute_result",
                    "metadata": {},
                    "execution_count": 134,
                    "data": {
                        "application/vnd.dataresource+json": {
                            "schema": {
                                "fields": [
                                    {
                                        "name": "Sorok száma (db)"
                                    },
                                    {
                                        "name": "Értékek száma (db)"
                                    },
                                    {
                                        "name": "NULL értékek száma (%)"
                                    },
                                    {
                                        "name": "NULL értékek aránya"
                                    }
                                ]
                            },
                            "data": [
                                {
                                    "Sorok száma (db)": "551",
                                    "Értékek száma (db)": "24",
                                    "NULL értékek száma (%)": "527",
                                    "NULL értékek aránya": "95.640000000000"
                                }
                            ]
                        },
                        "text/html": [
                            "<table>",
                            "<tr><th>Sorok száma (db)</th><th>Értékek száma (db)</th><th>NULL értékek száma (%)</th><th>NULL értékek aránya</th></tr>",
                            "<tr><td>551</td><td>24</td><td>527</td><td>95.640000000000</td></tr>",
                            "</table>"
                        ]
                    }
                }
            ],
            "execution_count": 134
        },
        {
            "cell_type": "code",
            "source": [
                "SELECT \r\n",
                "    MIN(LISTAAR) AS min_ertek,\r\n",
                "    MAX(LISTAAR) AS max_ertek,\r\n",
                "    ROUND(AVG(LISTAAR), 2) AS atlag,\r\n",
                "    ROUND(STDEV(LISTAAR), 2) AS szoras\r\n",
                "FROM Termek"
            ],
            "metadata": {
                "azdata_cell_guid": "e961ed23-3fbf-43d7-98dd-5eba9be70b77",
                "language": "sql"
            },
            "outputs": [
                {
                    "output_type": "display_data",
                    "data": {
                        "text/html": "(1 row affected)"
                    },
                    "metadata": {}
                },
                {
                    "output_type": "display_data",
                    "data": {
                        "text/html": "Total execution time: 00:00:00.026"
                    },
                    "metadata": {}
                },
                {
                    "output_type": "execute_result",
                    "metadata": {},
                    "execution_count": 101,
                    "data": {
                        "application/vnd.dataresource+json": {
                            "schema": {
                                "fields": [
                                    {
                                        "name": "min_ertek"
                                    },
                                    {
                                        "name": "max_ertek"
                                    },
                                    {
                                        "name": "atlag"
                                    },
                                    {
                                        "name": "szoras"
                                    }
                                ]
                            },
                            "data": [
                                {
                                    "min_ertek": "0",
                                    "max_ertek": "46000",
                                    "atlag": "786,28",
                                    "szoras": "3602,48"
                                }
                            ]
                        },
                        "text/html": [
                            "<table>",
                            "<tr><th>min_ertek</th><th>max_ertek</th><th>atlag</th><th>szoras</th></tr>",
                            "<tr><td>0</td><td>46000</td><td>786,28</td><td>3602,48</td></tr>",
                            "</table>"
                        ]
                    }
                }
            ],
            "execution_count": 101
        },
        {
            "cell_type": "code",
            "source": [
                "SELECT \r\n",
                "    FLOOR(LISTAAR / 1000) * 1000 AS 'kategoriak', \r\n",
                "    COUNT(*) AS 'db'\r\n",
                "FROM Termek\r\n",
                "GROUP BY FLOOR(LISTAAR / 1000) * 1000\r\n",
                "ORDER BY kategoriak"
            ],
            "metadata": {
                "azdata_cell_guid": "cc964c0a-eab4-4cef-8b55-87b8edc527c9",
                "language": "sql",
                "tags": []
            },
            "outputs": [
                {
                    "output_type": "display_data",
                    "data": {
                        "text/html": "(16 rows affected)"
                    },
                    "metadata": {}
                },
                {
                    "output_type": "display_data",
                    "data": {
                        "text/html": "Total execution time: 00:00:00.183"
                    },
                    "metadata": {}
                },
                {
                    "output_type": "execute_result",
                    "metadata": {},
                    "execution_count": 142,
                    "data": {
                        "application/vnd.dataresource+json": {
                            "schema": {
                                "fields": [
                                    {
                                        "name": "kategoriak"
                                    },
                                    {
                                        "name": "db"
                                    }
                                ]
                            },
                            "data": [
                                {
                                    "kategoriak": "0",
                                    "db": "511"
                                },
                                {
                                    "kategoriak": "1000",
                                    "db": "14"
                                },
                                {
                                    "kategoriak": "2000",
                                    "db": "1"
                                },
                                {
                                    "kategoriak": "3000",
                                    "db": "2"
                                },
                                {
                                    "kategoriak": "4000",
                                    "db": "3"
                                },
                                {
                                    "kategoriak": "6000",
                                    "db": "3"
                                },
                                {
                                    "kategoriak": "7000",
                                    "db": "3"
                                },
                                {
                                    "kategoriak": "8000",
                                    "db": "5"
                                },
                                {
                                    "kategoriak": "11000",
                                    "db": "1"
                                },
                                {
                                    "kategoriak": "14000",
                                    "db": "1"
                                },
                                {
                                    "kategoriak": "16000",
                                    "db": "2"
                                },
                                {
                                    "kategoriak": "22000",
                                    "db": "1"
                                },
                                {
                                    "kategoriak": "24000",
                                    "db": "1"
                                },
                                {
                                    "kategoriak": "32000",
                                    "db": "1"
                                },
                                {
                                    "kategoriak": "39000",
                                    "db": "1"
                                },
                                {
                                    "kategoriak": "46000",
                                    "db": "1"
                                }
                            ]
                        },
                        "text/html": [
                            "<table>",
                            "<tr><th>kategoriak</th><th>db</th></tr>",
                            "<tr><td>0</td><td>511</td></tr>",
                            "<tr><td>1000</td><td>14</td></tr>",
                            "<tr><td>2000</td><td>1</td></tr>",
                            "<tr><td>3000</td><td>2</td></tr>",
                            "<tr><td>4000</td><td>3</td></tr>",
                            "<tr><td>6000</td><td>3</td></tr>",
                            "<tr><td>7000</td><td>3</td></tr>",
                            "<tr><td>8000</td><td>5</td></tr>",
                            "<tr><td>11000</td><td>1</td></tr>",
                            "<tr><td>14000</td><td>1</td></tr>",
                            "<tr><td>16000</td><td>2</td></tr>",
                            "<tr><td>22000</td><td>1</td></tr>",
                            "<tr><td>24000</td><td>1</td></tr>",
                            "<tr><td>32000</td><td>1</td></tr>",
                            "<tr><td>39000</td><td>1</td></tr>",
                            "<tr><td>46000</td><td>1</td></tr>",
                            "</table>"
                        ]
                    }
                }
            ],
            "execution_count": 142
        },
        {
            "cell_type": "code",
            "source": [
                "SELECT  FELVITTE,\r\n",
                "        COUNT(*) AS 'DB',\r\n",
                "        MIN(LISTAAR) AS 'Legkisebb felvitt listaár érték',\r\n",
                "        MAX(LISTAAR) AS 'Legnagyobb  érték'\r\n",
                "FROM Termek\r\n",
                "GROUP BY FELVITTE\r\n",
                ""
            ],
            "metadata": {
                "azdata_cell_guid": "fb6ea16e-ec90-4925-bd1d-d6ccf2ab450e",
                "language": "sql"
            },
            "outputs": [
                {
                    "output_type": "display_data",
                    "data": {
                        "text/html": "(3 rows affected)"
                    },
                    "metadata": {}
                },
                {
                    "output_type": "display_data",
                    "data": {
                        "text/html": "Total execution time: 00:00:00.030"
                    },
                    "metadata": {}
                },
                {
                    "output_type": "execute_result",
                    "metadata": {},
                    "execution_count": 146,
                    "data": {
                        "application/vnd.dataresource+json": {
                            "schema": {
                                "fields": [
                                    {
                                        "name": "FELVITTE"
                                    },
                                    {
                                        "name": "DB"
                                    },
                                    {
                                        "name": "Legkisebb felvitt listaár érték"
                                    },
                                    {
                                        "name": "Legnagyobb  érték"
                                    }
                                ]
                            },
                            "data": [
                                {
                                    "FELVITTE": "Béla",
                                    "DB": "189",
                                    "Legkisebb felvitt listaár érték": "3",
                                    "Legnagyobb  érték": "24000"
                                },
                                {
                                    "FELVITTE": "Mari",
                                    "DB": "174",
                                    "Legkisebb felvitt listaár érték": "0",
                                    "Legnagyobb  érték": "46000"
                                },
                                {
                                    "FELVITTE": "Sára",
                                    "DB": "188",
                                    "Legkisebb felvitt listaár érték": "5",
                                    "Legnagyobb  érték": "39000"
                                }
                            ]
                        },
                        "text/html": [
                            "<table>",
                            "<tr><th>FELVITTE</th><th>DB</th><th>Legkisebb felvitt listaár érték</th><th>Legnagyobb  érték</th></tr>",
                            "<tr><td>Béla</td><td>189</td><td>3</td><td>24000</td></tr>",
                            "<tr><td>Mari</td><td>174</td><td>0</td><td>46000</td></tr>",
                            "<tr><td>Sára</td><td>188</td><td>5</td><td>39000</td></tr>",
                            "</table>"
                        ]
                    }
                }
            ],
            "execution_count": 146
        },
        {
            "cell_type": "markdown",
            "source": [
                "Ügyfél tábla különböző adatai\n",
                "\n",
                "- Nemek szerinti feloszlás\n",
                "- A 10 leggyakrabban előforduló születési év"
            ],
            "metadata": {
                "azdata_cell_guid": "5a9502d3-cb82-445a-9fdb-e0ab26140562"
            },
            "attachments": {}
        },
        {
            "cell_type": "code",
            "source": [
                "SELECT  NEM,\r\n",
                "        COUNT(*) AS 'Darabszám'\r\n",
                "FROM Ugyfel\r\n",
                "GROUP BY NEM"
            ],
            "metadata": {
                "azdata_cell_guid": "78c38628-d8f5-4b75-979f-a3e53db50799",
                "language": "sql",
                "tags": []
            },
            "outputs": [
                {
                    "output_type": "display_data",
                    "data": {
                        "text/html": "(2 rows affected)"
                    },
                    "metadata": {}
                },
                {
                    "output_type": "display_data",
                    "data": {
                        "text/html": "Total execution time: 00:00:00.162"
                    },
                    "metadata": {}
                },
                {
                    "output_type": "execute_result",
                    "metadata": {},
                    "execution_count": 32,
                    "data": {
                        "application/vnd.dataresource+json": {
                            "schema": {
                                "fields": [
                                    {
                                        "name": "NEM"
                                    },
                                    {
                                        "name": "Darabszám"
                                    }
                                ]
                            },
                            "data": [
                                {
                                    "NEM": "F",
                                    "Darabszám": "119"
                                },
                                {
                                    "NEM": "N",
                                    "Darabszám": "81"
                                }
                            ]
                        },
                        "text/html": [
                            "<table>",
                            "<tr><th>NEM</th><th>Darabszám</th></tr>",
                            "<tr><td>F</td><td>119</td></tr>",
                            "<tr><td>N</td><td>81</td></tr>",
                            "</table>"
                        ]
                    }
                }
            ],
            "execution_count": 32
        },
        {
            "cell_type": "code",
            "source": [
                "SELECT  TOP 10 SZULEV,\r\n",
                "        COUNT(*) AS 'Ügyfelek száma'\r\n",
                "FROM Ugyfel\r\n",
                "GROUP BY SZULEV\r\n",
                "ORDER BY COUNT(*) DESC"
            ],
            "metadata": {
                "azdata_cell_guid": "4a22497b-a1aa-4318-ac0e-895a04869aec",
                "language": "sql",
                "tags": [
                    "hide_input"
                ]
            },
            "outputs": [
                {
                    "output_type": "display_data",
                    "data": {
                        "text/html": "(10 rows affected)"
                    },
                    "metadata": {}
                },
                {
                    "output_type": "display_data",
                    "data": {
                        "text/html": "Total execution time: 00:00:00.026"
                    },
                    "metadata": {}
                },
                {
                    "output_type": "execute_result",
                    "metadata": {},
                    "execution_count": 63,
                    "data": {
                        "application/vnd.dataresource+json": {
                            "schema": {
                                "fields": [
                                    {
                                        "name": "SZULEV"
                                    },
                                    {
                                        "name": "Ügyfelek száma"
                                    }
                                ]
                            },
                            "data": [
                                {
                                    "SZULEV": "1997",
                                    "Ügyfelek száma": "12"
                                },
                                {
                                    "SZULEV": "1975",
                                    "Ügyfelek száma": "11"
                                },
                                {
                                    "SZULEV": "1986",
                                    "Ügyfelek száma": "9"
                                },
                                {
                                    "SZULEV": "1969",
                                    "Ügyfelek száma": "8"
                                },
                                {
                                    "SZULEV": "1968",
                                    "Ügyfelek száma": "8"
                                },
                                {
                                    "SZULEV": "1967",
                                    "Ügyfelek száma": "8"
                                },
                                {
                                    "SZULEV": "1983",
                                    "Ügyfelek száma": "8"
                                },
                                {
                                    "SZULEV": "1984",
                                    "Ügyfelek száma": "8"
                                },
                                {
                                    "SZULEV": "1990",
                                    "Ügyfelek száma": "8"
                                },
                                {
                                    "SZULEV": "1976",
                                    "Ügyfelek száma": "7"
                                }
                            ]
                        },
                        "text/html": [
                            "<table>",
                            "<tr><th>SZULEV</th><th>Ügyfelek száma</th></tr>",
                            "<tr><td>1997</td><td>12</td></tr>",
                            "<tr><td>1975</td><td>11</td></tr>",
                            "<tr><td>1986</td><td>9</td></tr>",
                            "<tr><td>1969</td><td>8</td></tr>",
                            "<tr><td>1968</td><td>8</td></tr>",
                            "<tr><td>1967</td><td>8</td></tr>",
                            "<tr><td>1983</td><td>8</td></tr>",
                            "<tr><td>1984</td><td>8</td></tr>",
                            "<tr><td>1990</td><td>8</td></tr>",
                            "<tr><td>1976</td><td>7</td></tr>",
                            "</table>"
                        ]
                    }
                }
            ],
            "execution_count": 63
        },
        {
            "cell_type": "markdown",
            "source": [
                "Rendelés tábla adatai:\n",
                "\n",
                "- A Szállítási cím oszlop sorai, értékei, NULL sorok számai és a NULL értékek aránya\n",
                "- Szállítási napok száma 100 rendelés esetében\n",
                "- Szállítási módok szerint átlag, legtöbb és legrövidebb szállítási napok száma\n",
                "- Az egyes szállítási napok számához kötődő rendelések száma"
            ],
            "metadata": {
                "azdata_cell_guid": "11fdaa96-6bee-4ad9-9371-10bb36d0fa83"
            },
            "attachments": {}
        },
        {
            "cell_type": "code",
            "source": [
                "SELECT \r\n",
                "    COUNT(*) AS 'Sorok száma (db)', \r\n",
                "    COUNT(SZALL_CIM) AS 'Értékek száma (db)',\r\n",
                "    COUNT(*) - COUNT(SZALL_CIM) AS 'NULL értékek száma (db)',\r\n",
                "    ROUND((COUNT(*) - COUNT(SZALL_CIM)) * 100.0 / COUNT(*), 2) AS 'NULL értékek aránya (%)'\r\n",
                "FROM Rendeles"
            ],
            "metadata": {
                "azdata_cell_guid": "96af8f4f-4ba6-4027-93a3-e5e19773047c",
                "language": "sql",
                "tags": []
            },
            "outputs": [
                {
                    "output_type": "display_data",
                    "data": {
                        "text/html": "Warning: Null value is eliminated by an aggregate or other SET operation."
                    },
                    "metadata": {}
                },
                {
                    "output_type": "display_data",
                    "data": {
                        "text/html": "(1 row affected)"
                    },
                    "metadata": {}
                },
                {
                    "output_type": "display_data",
                    "data": {
                        "text/html": "Total execution time: 00:00:00.060"
                    },
                    "metadata": {}
                },
                {
                    "output_type": "execute_result",
                    "metadata": {},
                    "execution_count": 147,
                    "data": {
                        "application/vnd.dataresource+json": {
                            "schema": {
                                "fields": [
                                    {
                                        "name": "Sorok száma (db)"
                                    },
                                    {
                                        "name": "Értékek száma (db)"
                                    },
                                    {
                                        "name": "NULL értékek száma (db)"
                                    },
                                    {
                                        "name": "NULL értékek aránya (%)"
                                    }
                                ]
                            },
                            "data": [
                                {
                                    "Sorok száma (db)": "28085",
                                    "Értékek száma (db)": "6396",
                                    "NULL értékek száma (db)": "21689",
                                    "NULL értékek aránya (%)": "77.230000000000"
                                }
                            ]
                        },
                        "text/html": [
                            "<table>",
                            "<tr><th>Sorok száma (db)</th><th>Értékek száma (db)</th><th>NULL értékek száma (db)</th><th>NULL értékek aránya (%)</th></tr>",
                            "<tr><td>28085</td><td>6396</td><td>21689</td><td>77.230000000000</td></tr>",
                            "</table>"
                        ]
                    }
                }
            ],
            "execution_count": 147
        },
        {
            "cell_type": "code",
            "source": [
                "SELECT TOP 100 [LOGIN],\r\n",
                "        REND_DATUM,\r\n",
                "        SZALL_DATUM,\r\n",
                "        SZALL_MOD,\r\n",
                "        DATEDIFF(DAY, REND_DATUM, SZALL_DATUM) AS 'Szállítás napok száma'\r\n",
                "FROM Rendeles\r\n",
                ""
            ],
            "metadata": {
                "azdata_cell_guid": "766ff4f1-79d8-43b4-a8e4-4bddb432fea3",
                "language": "sql"
            },
            "outputs": [
                {
                    "output_type": "display_data",
                    "data": {
                        "text/html": "(100 rows affected)"
                    },
                    "metadata": {}
                },
                {
                    "output_type": "display_data",
                    "data": {
                        "text/html": "Total execution time: 00:00:00.027"
                    },
                    "metadata": {}
                },
                {
                    "output_type": "execute_result",
                    "metadata": {},
                    "execution_count": 76,
                    "data": {
                        "application/vnd.dataresource+json": {
                            "schema": {
                                "fields": [
                                    {
                                        "name": "LOGIN"
                                    },
                                    {
                                        "name": "REND_DATUM"
                                    },
                                    {
                                        "name": "SZALL_DATUM"
                                    },
                                    {
                                        "name": "SZALL_MOD"
                                    },
                                    {
                                        "name": "Szállítás napok száma"
                                    }
                                ]
                            },
                            "data": [
                                {
                                    "LOGIN": "GABORS",
                                    "REND_DATUM": "2015-05-01",
                                    "SZALL_DATUM": "2015-05-04",
                                    "SZALL_MOD": "Posta",
                                    "Szállítás napok száma": "3"
                                },
                                {
                                    "LOGIN": "veronika4",
                                    "REND_DATUM": "2015-05-01",
                                    "SZALL_DATUM": "2015-05-06",
                                    "SZALL_MOD": "Személyes átvétel",
                                    "Szállítás napok száma": "5"
                                },
                                {
                                    "LOGIN": "JOZSEFG",
                                    "REND_DATUM": "2015-05-01",
                                    "SZALL_DATUM": "2015-05-07",
                                    "SZALL_MOD": "GLS",
                                    "Szállítás napok száma": "6"
                                },
                                {
                                    "LOGIN": "zoltan4",
                                    "REND_DATUM": "2015-05-01",
                                    "SZALL_DATUM": "2015-05-07",
                                    "SZALL_MOD": "GLS",
                                    "Szállítás napok száma": "6"
                                },
                                {
                                    "LOGIN": "ZSOLTJ",
                                    "REND_DATUM": "2015-05-01",
                                    "SZALL_DATUM": "2015-05-04",
                                    "SZALL_MOD": "Személyes átvétel",
                                    "Szállítás napok száma": "3"
                                },
                                {
                                    "LOGIN": "BELAF",
                                    "REND_DATUM": "2015-05-01",
                                    "SZALL_DATUM": "2015-05-06",
                                    "SZALL_MOD": "Személyes átvétel",
                                    "Szállítás napok száma": "5"
                                },
                                {
                                    "LOGIN": "norbert2",
                                    "REND_DATUM": "2015-05-01",
                                    "SZALL_DATUM": "2015-05-10",
                                    "SZALL_MOD": "Posta",
                                    "Szállítás napok száma": "9"
                                },
                                {
                                    "LOGIN": "kristof4",
                                    "REND_DATUM": "2015-05-01",
                                    "SZALL_DATUM": "2015-05-05",
                                    "SZALL_MOD": "Posta",
                                    "Szállítás napok száma": "4"
                                },
                                {
                                    "LOGIN": "polla",
                                    "REND_DATUM": "2015-05-01",
                                    "SZALL_DATUM": "2015-05-11",
                                    "SZALL_MOD": "GLS",
                                    "Szállítás napok száma": "10"
                                },
                                {
                                    "LOGIN": "balazs2",
                                    "REND_DATUM": "2015-05-01",
                                    "SZALL_DATUM": "2015-05-07",
                                    "SZALL_MOD": "GLS",
                                    "Szállítás napok száma": "6"
                                },
                                {
                                    "LOGIN": "julia4",
                                    "REND_DATUM": "2015-05-01",
                                    "SZALL_DATUM": "2015-05-11",
                                    "SZALL_MOD": "Személyes átvétel",
                                    "Szállítás napok száma": "10"
                                },
                                {
                                    "LOGIN": "andrea4",
                                    "REND_DATUM": "2015-05-01",
                                    "SZALL_DATUM": "2015-05-11",
                                    "SZALL_MOD": "Személyes átvétel",
                                    "Szállítás napok száma": "10"
                                },
                                {
                                    "LOGIN": "BELAF",
                                    "REND_DATUM": "2015-05-01",
                                    "SZALL_DATUM": "2015-05-10",
                                    "SZALL_MOD": "GLS",
                                    "Szállítás napok száma": "9"
                                },
                                {
                                    "LOGIN": "NIKOLETTAT",
                                    "REND_DATUM": "2015-05-01",
                                    "SZALL_DATUM": "2015-05-08",
                                    "SZALL_MOD": "Posta",
                                    "Szállítás napok száma": "7"
                                },
                                {
                                    "LOGIN": "ANDRASE",
                                    "REND_DATUM": "2015-05-01",
                                    "SZALL_DATUM": "2015-05-05",
                                    "SZALL_MOD": "Személyes átvétel",
                                    "Szállítás napok száma": "4"
                                },
                                {
                                    "LOGIN": "SZABOLCSM",
                                    "REND_DATUM": "2015-05-01",
                                    "SZALL_DATUM": "2015-05-05",
                                    "SZALL_MOD": "Posta",
                                    "Szállítás napok száma": "4"
                                },
                                {
                                    "LOGIN": "laszlo2",
                                    "REND_DATUM": "2015-05-01",
                                    "SZALL_DATUM": "2015-05-03",
                                    "SZALL_MOD": "GLS",
                                    "Szállítás napok száma": "2"
                                },
                                {
                                    "LOGIN": "zoltan4",
                                    "REND_DATUM": "2015-05-01",
                                    "SZALL_DATUM": "2015-05-04",
                                    "SZALL_MOD": "Személyes átvétel",
                                    "Szállítás napok száma": "3"
                                },
                                {
                                    "LOGIN": "gusztav",
                                    "REND_DATUM": "2015-05-01",
                                    "SZALL_DATUM": "2015-05-08",
                                    "SZALL_MOD": "Posta",
                                    "Szállítás napok száma": "7"
                                },
                                {
                                    "LOGIN": "kriszti",
                                    "REND_DATUM": "2015-05-01",
                                    "SZALL_DATUM": "2015-05-09",
                                    "SZALL_MOD": "GLS",
                                    "Szállítás napok száma": "8"
                                },
                                {
                                    "LOGIN": "JUDITH",
                                    "REND_DATUM": "2015-05-01",
                                    "SZALL_DATUM": "2015-05-11",
                                    "SZALL_MOD": "Személyes átvétel",
                                    "Szállítás napok száma": "10"
                                },
                                {
                                    "LOGIN": "ATTILAO",
                                    "REND_DATUM": "2015-05-01",
                                    "SZALL_DATUM": "2015-05-10",
                                    "SZALL_MOD": "GLS",
                                    "Szállítás napok száma": "9"
                                },
                                {
                                    "LOGIN": "polla",
                                    "REND_DATUM": "2015-05-01",
                                    "SZALL_DATUM": "2015-05-06",
                                    "SZALL_MOD": "Posta",
                                    "Szállítás napok száma": "5"
                                },
                                {
                                    "LOGIN": "balint1",
                                    "REND_DATUM": "2015-05-01",
                                    "SZALL_DATUM": "2015-05-03",
                                    "SZALL_MOD": "GLS",
                                    "Szállítás napok száma": "2"
                                },
                                {
                                    "LOGIN": "nikoletta4",
                                    "REND_DATUM": "2015-05-01",
                                    "SZALL_DATUM": "2015-05-07",
                                    "SZALL_MOD": "GLS",
                                    "Szállítás napok száma": "6"
                                },
                                {
                                    "LOGIN": "aniko4",
                                    "REND_DATUM": "2015-05-01",
                                    "SZALL_DATUM": "2015-05-05",
                                    "SZALL_MOD": "GLS",
                                    "Szállítás napok száma": "4"
                                },
                                {
                                    "LOGIN": "julianna4",
                                    "REND_DATUM": "2015-05-01",
                                    "SZALL_DATUM": "2015-05-04",
                                    "SZALL_MOD": "GLS",
                                    "Szállítás napok száma": "3"
                                },
                                {
                                    "LOGIN": "roland1",
                                    "REND_DATUM": "2015-05-01",
                                    "SZALL_DATUM": "2015-05-11",
                                    "SZALL_MOD": "GLS",
                                    "Szállítás napok száma": "10"
                                },
                                {
                                    "LOGIN": "valentin",
                                    "REND_DATUM": "2015-05-01",
                                    "SZALL_DATUM": "2015-05-06",
                                    "SZALL_MOD": "GLS",
                                    "Szállítás napok száma": "5"
                                },
                                {
                                    "LOGIN": "katalin",
                                    "REND_DATUM": "2015-05-01",
                                    "SZALL_DATUM": "2015-05-07",
                                    "SZALL_MOD": "Posta",
                                    "Szállítás napok száma": "6"
                                },
                                {
                                    "LOGIN": "sandor",
                                    "REND_DATUM": "2015-05-01",
                                    "SZALL_DATUM": "2015-05-11",
                                    "SZALL_MOD": "Posta",
                                    "Szállítás napok száma": "10"
                                },
                                {
                                    "LOGIN": "LASZLOA",
                                    "REND_DATUM": "2015-05-02",
                                    "SZALL_DATUM": "2015-05-09",
                                    "SZALL_MOD": "GLS",
                                    "Szállítás napok száma": "7"
                                },
                                {
                                    "LOGIN": "andrea",
                                    "REND_DATUM": "2015-05-02",
                                    "SZALL_DATUM": "2015-05-12",
                                    "SZALL_MOD": "Posta",
                                    "Szállítás napok száma": "10"
                                },
                                {
                                    "LOGIN": "BEATRIXS",
                                    "REND_DATUM": "2015-05-02",
                                    "SZALL_DATUM": "2015-05-04",
                                    "SZALL_MOD": "GLS",
                                    "Szállítás napok száma": "2"
                                },
                                {
                                    "LOGIN": "ARONK",
                                    "REND_DATUM": "2015-05-02",
                                    "SZALL_DATUM": "2015-05-10",
                                    "SZALL_MOD": "Személyes átvétel",
                                    "Szállítás napok száma": "8"
                                },
                                {
                                    "LOGIN": "andrea4",
                                    "REND_DATUM": "2015-05-02",
                                    "SZALL_DATUM": "2015-05-08",
                                    "SZALL_MOD": "GLS",
                                    "Szállítás napok száma": "6"
                                },
                                {
                                    "LOGIN": "bertalan",
                                    "REND_DATUM": "2015-05-02",
                                    "SZALL_DATUM": "2015-05-10",
                                    "SZALL_MOD": "Posta",
                                    "Szállítás napok száma": "8"
                                },
                                {
                                    "LOGIN": "daniel1",
                                    "REND_DATUM": "2015-05-02",
                                    "SZALL_DATUM": "2015-05-12",
                                    "SZALL_MOD": "GLS",
                                    "Szállítás napok száma": "10"
                                },
                                {
                                    "LOGIN": "JANOSG",
                                    "REND_DATUM": "2015-05-02",
                                    "SZALL_DATUM": "2015-05-09",
                                    "SZALL_MOD": "Személyes átvétel",
                                    "Szállítás napok száma": "7"
                                },
                                {
                                    "LOGIN": "BENCEB",
                                    "REND_DATUM": "2015-05-02",
                                    "SZALL_DATUM": "2015-05-12",
                                    "SZALL_MOD": "GLS",
                                    "Szállítás napok száma": "10"
                                },
                                {
                                    "LOGIN": "krisztina",
                                    "REND_DATUM": "2015-05-02",
                                    "SZALL_DATUM": "2015-05-11",
                                    "SZALL_MOD": "Posta",
                                    "Szállítás napok száma": "9"
                                },
                                {
                                    "LOGIN": "BERNADETTO",
                                    "REND_DATUM": "2015-05-02",
                                    "SZALL_DATUM": "2015-05-09",
                                    "SZALL_MOD": "GLS",
                                    "Szállítás napok száma": "7"
                                },
                                {
                                    "LOGIN": "brigitta3",
                                    "REND_DATUM": "2015-05-02",
                                    "SZALL_DATUM": "2015-05-05",
                                    "SZALL_MOD": "Posta",
                                    "Szállítás napok száma": "3"
                                },
                                {
                                    "LOGIN": "zsolt1",
                                    "REND_DATUM": "2015-05-02",
                                    "SZALL_DATUM": "2015-05-06",
                                    "SZALL_MOD": "Személyes átvétel",
                                    "Szállítás napok száma": "4"
                                },
                                {
                                    "LOGIN": "adam4",
                                    "REND_DATUM": "2015-05-02",
                                    "SZALL_DATUM": "2015-05-06",
                                    "SZALL_MOD": "GLS",
                                    "Szállítás napok száma": "4"
                                },
                                {
                                    "LOGIN": "anita",
                                    "REND_DATUM": "2015-05-02",
                                    "SZALL_DATUM": "2015-05-10",
                                    "SZALL_MOD": "GLS",
                                    "Szállítás napok száma": "8"
                                },
                                {
                                    "LOGIN": "LASZLON",
                                    "REND_DATUM": "2015-05-02",
                                    "SZALL_DATUM": "2015-05-12",
                                    "SZALL_MOD": "GLS",
                                    "Szállítás napok száma": "10"
                                },
                                {
                                    "LOGIN": "MIKLOSB",
                                    "REND_DATUM": "2015-05-02",
                                    "SZALL_DATUM": "2015-05-11",
                                    "SZALL_MOD": "Posta",
                                    "Szállítás napok száma": "9"
                                },
                                {
                                    "LOGIN": "marton",
                                    "REND_DATUM": "2015-05-02",
                                    "SZALL_DATUM": "2015-05-06",
                                    "SZALL_MOD": "Személyes átvétel",
                                    "Szállítás napok száma": "4"
                                },
                                {
                                    "LOGIN": "GABORS",
                                    "REND_DATUM": "2015-05-02",
                                    "SZALL_DATUM": "2015-05-11",
                                    "SZALL_MOD": "Posta",
                                    "Szállítás napok száma": "9"
                                },
                                {
                                    "LOGIN": "tibor",
                                    "REND_DATUM": "2015-05-02",
                                    "SZALL_DATUM": "2015-05-05",
                                    "SZALL_MOD": "Posta",
                                    "Szállítás napok száma": "3"
                                },
                                {
                                    "LOGIN": "laszlo2",
                                    "REND_DATUM": "2015-05-02",
                                    "SZALL_DATUM": "2015-05-12",
                                    "SZALL_MOD": "Személyes átvétel",
                                    "Szállítás napok száma": "10"
                                },
                                {
                                    "LOGIN": "jozsef2",
                                    "REND_DATUM": "2015-05-02",
                                    "SZALL_DATUM": "2015-05-08",
                                    "SZALL_MOD": "Személyes átvétel",
                                    "Szállítás napok száma": "6"
                                },
                                {
                                    "LOGIN": "RENATAK",
                                    "REND_DATUM": "2015-05-02",
                                    "SZALL_DATUM": "2015-05-09",
                                    "SZALL_MOD": "GLS",
                                    "Szállítás napok száma": "7"
                                },
                                {
                                    "LOGIN": "peter4",
                                    "REND_DATUM": "2015-05-02",
                                    "SZALL_DATUM": "2015-05-08",
                                    "SZALL_MOD": "Személyes átvétel",
                                    "Szállítás napok száma": "6"
                                },
                                {
                                    "LOGIN": "edit",
                                    "REND_DATUM": "2015-05-02",
                                    "SZALL_DATUM": "2015-05-07",
                                    "SZALL_MOD": "Posta",
                                    "Szállítás napok száma": "5"
                                },
                                {
                                    "LOGIN": "attila4",
                                    "REND_DATUM": "2015-05-02",
                                    "SZALL_DATUM": "2015-05-11",
                                    "SZALL_MOD": "Posta",
                                    "Szállítás napok száma": "9"
                                },
                                {
                                    "LOGIN": "nikoletta4",
                                    "REND_DATUM": "2015-05-02",
                                    "SZALL_DATUM": "2015-05-09",
                                    "SZALL_MOD": "Posta",
                                    "Szállítás napok száma": "7"
                                },
                                {
                                    "LOGIN": "attila1",
                                    "REND_DATUM": "2015-05-02",
                                    "SZALL_DATUM": "2015-05-07",
                                    "SZALL_MOD": "Posta",
                                    "Szállítás napok száma": "5"
                                },
                                {
                                    "LOGIN": "edit",
                                    "REND_DATUM": "2015-05-02",
                                    "SZALL_DATUM": "2015-05-09",
                                    "SZALL_MOD": "GLS",
                                    "Szállítás napok száma": "7"
                                },
                                {
                                    "LOGIN": "BEATRIXK",
                                    "REND_DATUM": "2015-05-02",
                                    "SZALL_DATUM": "2015-05-09",
                                    "SZALL_MOD": "Személyes átvétel",
                                    "Szállítás napok száma": "7"
                                },
                                {
                                    "LOGIN": "ESZTERE",
                                    "REND_DATUM": "2015-05-02",
                                    "SZALL_DATUM": "2015-05-08",
                                    "SZALL_MOD": "GLS",
                                    "Szállítás napok száma": "6"
                                },
                                {
                                    "LOGIN": "TAMASF",
                                    "REND_DATUM": "2015-05-02",
                                    "SZALL_DATUM": "2015-05-05",
                                    "SZALL_MOD": "Posta",
                                    "Szállítás napok száma": "3"
                                },
                                {
                                    "LOGIN": "zsolt1",
                                    "REND_DATUM": "2015-05-02",
                                    "SZALL_DATUM": "2015-05-09",
                                    "SZALL_MOD": "GLS",
                                    "Szállítás napok száma": "7"
                                },
                                {
                                    "LOGIN": "veronika4",
                                    "REND_DATUM": "2015-05-02",
                                    "SZALL_DATUM": "2015-05-04",
                                    "SZALL_MOD": "Személyes átvétel",
                                    "Szállítás napok száma": "2"
                                },
                                {
                                    "LOGIN": "roland1",
                                    "REND_DATUM": "2015-05-02",
                                    "SZALL_DATUM": "2015-05-10",
                                    "SZALL_MOD": "Személyes átvétel",
                                    "Szállítás napok száma": "8"
                                },
                                {
                                    "LOGIN": "anett3",
                                    "REND_DATUM": "2015-05-02",
                                    "SZALL_DATUM": "2015-05-10",
                                    "SZALL_MOD": "GLS",
                                    "Szállítás napok száma": "8"
                                },
                                {
                                    "LOGIN": "NIKOLETTAT",
                                    "REND_DATUM": "2015-05-02",
                                    "SZALL_DATUM": "2015-05-09",
                                    "SZALL_MOD": "Posta",
                                    "Szállítás napok száma": "7"
                                },
                                {
                                    "LOGIN": "andras41",
                                    "REND_DATUM": "2015-05-02",
                                    "SZALL_DATUM": "2015-05-04",
                                    "SZALL_MOD": "Posta",
                                    "Szállítás napok száma": "2"
                                },
                                {
                                    "LOGIN": "lajos",
                                    "REND_DATUM": "2015-05-02",
                                    "SZALL_DATUM": "2015-05-10",
                                    "SZALL_MOD": "Személyes átvétel",
                                    "Szállítás napok száma": "8"
                                },
                                {
                                    "LOGIN": "daniel1",
                                    "REND_DATUM": "2015-05-02",
                                    "SZALL_DATUM": "2015-05-09",
                                    "SZALL_MOD": "GLS",
                                    "Szállítás napok száma": "7"
                                },
                                {
                                    "LOGIN": "NIKOLETTAT",
                                    "REND_DATUM": "2015-05-02",
                                    "SZALL_DATUM": "2015-05-05",
                                    "SZALL_MOD": "GLS",
                                    "Szállítás napok száma": "3"
                                },
                                {
                                    "LOGIN": "ARPADH",
                                    "REND_DATUM": "2015-05-02",
                                    "SZALL_DATUM": "2015-05-05",
                                    "SZALL_MOD": "GLS",
                                    "Szállítás napok száma": "3"
                                },
                                {
                                    "LOGIN": "peter4",
                                    "REND_DATUM": "2015-05-02",
                                    "SZALL_DATUM": "2015-05-06",
                                    "SZALL_MOD": "Személyes átvétel",
                                    "Szállítás napok száma": "4"
                                },
                                {
                                    "LOGIN": "julia4",
                                    "REND_DATUM": "2015-05-03",
                                    "SZALL_DATUM": "2015-05-09",
                                    "SZALL_MOD": "Személyes átvétel",
                                    "Szállítás napok száma": "6"
                                },
                                {
                                    "LOGIN": "katalin",
                                    "REND_DATUM": "2015-05-03",
                                    "SZALL_DATUM": "2015-05-06",
                                    "SZALL_MOD": "Posta",
                                    "Szállítás napok száma": "3"
                                },
                                {
                                    "LOGIN": "timea2",
                                    "REND_DATUM": "2015-05-03",
                                    "SZALL_DATUM": "2015-05-07",
                                    "SZALL_MOD": "Személyes átvétel",
                                    "Szállítás napok száma": "4"
                                },
                                {
                                    "LOGIN": "vivien3",
                                    "REND_DATUM": "2015-05-03",
                                    "SZALL_DATUM": "2015-05-06",
                                    "SZALL_MOD": "Személyes átvétel",
                                    "Szállítás napok száma": "3"
                                },
                                {
                                    "LOGIN": "ISTVANV",
                                    "REND_DATUM": "2015-05-03",
                                    "SZALL_DATUM": "2015-05-06",
                                    "SZALL_MOD": "GLS",
                                    "Szállítás napok száma": "3"
                                },
                                {
                                    "LOGIN": "ISTVANV",
                                    "REND_DATUM": "2015-05-03",
                                    "SZALL_DATUM": "2015-05-12",
                                    "SZALL_MOD": "Személyes átvétel",
                                    "Szállítás napok száma": "9"
                                },
                                {
                                    "LOGIN": "ANNAMARIAR",
                                    "REND_DATUM": "2015-05-03",
                                    "SZALL_DATUM": "2015-05-13",
                                    "SZALL_MOD": "GLS",
                                    "Szállítás napok száma": "10"
                                },
                                {
                                    "LOGIN": "KRISZTINAG",
                                    "REND_DATUM": "2015-05-03",
                                    "SZALL_DATUM": "2015-05-05",
                                    "SZALL_MOD": "Posta",
                                    "Szállítás napok száma": "2"
                                },
                                {
                                    "LOGIN": "VIKTORK",
                                    "REND_DATUM": "2015-05-03",
                                    "SZALL_DATUM": "2015-05-05",
                                    "SZALL_MOD": "GLS",
                                    "Szállítás napok száma": "2"
                                },
                                {
                                    "LOGIN": "balint2",
                                    "REND_DATUM": "2015-05-03",
                                    "SZALL_DATUM": "2015-05-11",
                                    "SZALL_MOD": "GLS",
                                    "Szállítás napok száma": "8"
                                },
                                {
                                    "LOGIN": "laszlo1",
                                    "REND_DATUM": "2015-05-03",
                                    "SZALL_DATUM": "2015-05-10",
                                    "SZALL_MOD": "Személyes átvétel",
                                    "Szállítás napok száma": "7"
                                },
                                {
                                    "LOGIN": "nikolett3",
                                    "REND_DATUM": "2015-05-03",
                                    "SZALL_DATUM": "2015-05-06",
                                    "SZALL_MOD": "Személyes átvétel",
                                    "Szállítás napok száma": "3"
                                },
                                {
                                    "LOGIN": "matyas2",
                                    "REND_DATUM": "2015-05-03",
                                    "SZALL_DATUM": "2015-05-06",
                                    "SZALL_MOD": "GLS",
                                    "Szállítás napok száma": "3"
                                },
                                {
                                    "LOGIN": "tunde",
                                    "REND_DATUM": "2015-05-03",
                                    "SZALL_DATUM": "2015-05-05",
                                    "SZALL_MOD": "GLS",
                                    "Szállítás napok száma": "2"
                                },
                                {
                                    "LOGIN": "robert2",
                                    "REND_DATUM": "2015-05-03",
                                    "SZALL_DATUM": "2015-05-13",
                                    "SZALL_MOD": "Személyes átvétel",
                                    "Szállítás napok száma": "10"
                                },
                                {
                                    "LOGIN": "julia4",
                                    "REND_DATUM": "2015-05-03",
                                    "SZALL_DATUM": "2015-05-06",
                                    "SZALL_MOD": "Posta",
                                    "Szállítás napok száma": "3"
                                },
                                {
                                    "LOGIN": "katka",
                                    "REND_DATUM": "2015-05-03",
                                    "SZALL_DATUM": "2015-05-13",
                                    "SZALL_MOD": "GLS",
                                    "Szállítás napok száma": "10"
                                },
                                {
                                    "LOGIN": "RENATAK",
                                    "REND_DATUM": "2015-05-03",
                                    "SZALL_DATUM": "2015-05-12",
                                    "SZALL_MOD": "Személyes átvétel",
                                    "Szállítás napok száma": "9"
                                },
                                {
                                    "LOGIN": "balint2",
                                    "REND_DATUM": "2015-05-03",
                                    "SZALL_DATUM": "2015-05-13",
                                    "SZALL_MOD": "Posta",
                                    "Szállítás napok száma": "10"
                                },
                                {
                                    "LOGIN": "miklos2",
                                    "REND_DATUM": "2015-05-03",
                                    "SZALL_DATUM": "2015-05-09",
                                    "SZALL_MOD": "Személyes átvétel",
                                    "Szállítás napok száma": "6"
                                },
                                {
                                    "LOGIN": "zsuzsa",
                                    "REND_DATUM": "2015-05-03",
                                    "SZALL_DATUM": "2015-05-11",
                                    "SZALL_MOD": "GLS",
                                    "Szállítás napok száma": "8"
                                },
                                {
                                    "LOGIN": "matyas2",
                                    "REND_DATUM": "2015-05-03",
                                    "SZALL_DATUM": "2015-05-08",
                                    "SZALL_MOD": "GLS",
                                    "Szállítás napok száma": "5"
                                },
                                {
                                    "LOGIN": "aniko4",
                                    "REND_DATUM": "2015-05-03",
                                    "SZALL_DATUM": "2015-05-05",
                                    "SZALL_MOD": "Posta",
                                    "Szállítás napok száma": "2"
                                },
                                {
                                    "LOGIN": "LASZLOA",
                                    "REND_DATUM": "2015-05-03",
                                    "SZALL_DATUM": "2015-05-05",
                                    "SZALL_MOD": "GLS",
                                    "Szállítás napok száma": "2"
                                },
                                {
                                    "LOGIN": "timea",
                                    "REND_DATUM": "2015-05-03",
                                    "SZALL_DATUM": "2015-05-10",
                                    "SZALL_MOD": "Személyes átvétel",
                                    "Szállítás napok száma": "7"
                                },
                                {
                                    "LOGIN": "ISTVANV",
                                    "REND_DATUM": "2015-05-03",
                                    "SZALL_DATUM": "2015-05-08",
                                    "SZALL_MOD": "Személyes átvétel",
                                    "Szállítás napok száma": "5"
                                }
                            ]
                        },
                        "text/html": [
                            "<table>",
                            "<tr><th>LOGIN</th><th>REND_DATUM</th><th>SZALL_DATUM</th><th>SZALL_MOD</th><th>Szállítás napok száma</th></tr>",
                            "<tr><td>GABORS</td><td>2015-05-01</td><td>2015-05-04</td><td>Posta</td><td>3</td></tr>",
                            "<tr><td>veronika4</td><td>2015-05-01</td><td>2015-05-06</td><td>Személyes átvétel</td><td>5</td></tr>",
                            "<tr><td>JOZSEFG</td><td>2015-05-01</td><td>2015-05-07</td><td>GLS</td><td>6</td></tr>",
                            "<tr><td>zoltan4</td><td>2015-05-01</td><td>2015-05-07</td><td>GLS</td><td>6</td></tr>",
                            "<tr><td>ZSOLTJ</td><td>2015-05-01</td><td>2015-05-04</td><td>Személyes átvétel</td><td>3</td></tr>",
                            "<tr><td>BELAF</td><td>2015-05-01</td><td>2015-05-06</td><td>Személyes átvétel</td><td>5</td></tr>",
                            "<tr><td>norbert2</td><td>2015-05-01</td><td>2015-05-10</td><td>Posta</td><td>9</td></tr>",
                            "<tr><td>kristof4</td><td>2015-05-01</td><td>2015-05-05</td><td>Posta</td><td>4</td></tr>",
                            "<tr><td>polla</td><td>2015-05-01</td><td>2015-05-11</td><td>GLS</td><td>10</td></tr>",
                            "<tr><td>balazs2</td><td>2015-05-01</td><td>2015-05-07</td><td>GLS</td><td>6</td></tr>",
                            "<tr><td>julia4</td><td>2015-05-01</td><td>2015-05-11</td><td>Személyes átvétel</td><td>10</td></tr>",
                            "<tr><td>andrea4</td><td>2015-05-01</td><td>2015-05-11</td><td>Személyes átvétel</td><td>10</td></tr>",
                            "<tr><td>BELAF</td><td>2015-05-01</td><td>2015-05-10</td><td>GLS</td><td>9</td></tr>",
                            "<tr><td>NIKOLETTAT</td><td>2015-05-01</td><td>2015-05-08</td><td>Posta</td><td>7</td></tr>",
                            "<tr><td>ANDRASE</td><td>2015-05-01</td><td>2015-05-05</td><td>Személyes átvétel</td><td>4</td></tr>",
                            "<tr><td>SZABOLCSM</td><td>2015-05-01</td><td>2015-05-05</td><td>Posta</td><td>4</td></tr>",
                            "<tr><td>laszlo2</td><td>2015-05-01</td><td>2015-05-03</td><td>GLS</td><td>2</td></tr>",
                            "<tr><td>zoltan4</td><td>2015-05-01</td><td>2015-05-04</td><td>Személyes átvétel</td><td>3</td></tr>",
                            "<tr><td>gusztav</td><td>2015-05-01</td><td>2015-05-08</td><td>Posta</td><td>7</td></tr>",
                            "<tr><td>kriszti</td><td>2015-05-01</td><td>2015-05-09</td><td>GLS</td><td>8</td></tr>",
                            "<tr><td>JUDITH</td><td>2015-05-01</td><td>2015-05-11</td><td>Személyes átvétel</td><td>10</td></tr>",
                            "<tr><td>ATTILAO</td><td>2015-05-01</td><td>2015-05-10</td><td>GLS</td><td>9</td></tr>",
                            "<tr><td>polla</td><td>2015-05-01</td><td>2015-05-06</td><td>Posta</td><td>5</td></tr>",
                            "<tr><td>balint1</td><td>2015-05-01</td><td>2015-05-03</td><td>GLS</td><td>2</td></tr>",
                            "<tr><td>nikoletta4</td><td>2015-05-01</td><td>2015-05-07</td><td>GLS</td><td>6</td></tr>",
                            "<tr><td>aniko4</td><td>2015-05-01</td><td>2015-05-05</td><td>GLS</td><td>4</td></tr>",
                            "<tr><td>julianna4</td><td>2015-05-01</td><td>2015-05-04</td><td>GLS</td><td>3</td></tr>",
                            "<tr><td>roland1</td><td>2015-05-01</td><td>2015-05-11</td><td>GLS</td><td>10</td></tr>",
                            "<tr><td>valentin</td><td>2015-05-01</td><td>2015-05-06</td><td>GLS</td><td>5</td></tr>",
                            "<tr><td>katalin</td><td>2015-05-01</td><td>2015-05-07</td><td>Posta</td><td>6</td></tr>",
                            "<tr><td>sandor</td><td>2015-05-01</td><td>2015-05-11</td><td>Posta</td><td>10</td></tr>",
                            "<tr><td>LASZLOA</td><td>2015-05-02</td><td>2015-05-09</td><td>GLS</td><td>7</td></tr>",
                            "<tr><td>andrea</td><td>2015-05-02</td><td>2015-05-12</td><td>Posta</td><td>10</td></tr>",
                            "<tr><td>BEATRIXS</td><td>2015-05-02</td><td>2015-05-04</td><td>GLS</td><td>2</td></tr>",
                            "<tr><td>ARONK</td><td>2015-05-02</td><td>2015-05-10</td><td>Személyes átvétel</td><td>8</td></tr>",
                            "<tr><td>andrea4</td><td>2015-05-02</td><td>2015-05-08</td><td>GLS</td><td>6</td></tr>",
                            "<tr><td>bertalan</td><td>2015-05-02</td><td>2015-05-10</td><td>Posta</td><td>8</td></tr>",
                            "<tr><td>daniel1</td><td>2015-05-02</td><td>2015-05-12</td><td>GLS</td><td>10</td></tr>",
                            "<tr><td>JANOSG</td><td>2015-05-02</td><td>2015-05-09</td><td>Személyes átvétel</td><td>7</td></tr>",
                            "<tr><td>BENCEB</td><td>2015-05-02</td><td>2015-05-12</td><td>GLS</td><td>10</td></tr>",
                            "<tr><td>krisztina</td><td>2015-05-02</td><td>2015-05-11</td><td>Posta</td><td>9</td></tr>",
                            "<tr><td>BERNADETTO</td><td>2015-05-02</td><td>2015-05-09</td><td>GLS</td><td>7</td></tr>",
                            "<tr><td>brigitta3</td><td>2015-05-02</td><td>2015-05-05</td><td>Posta</td><td>3</td></tr>",
                            "<tr><td>zsolt1</td><td>2015-05-02</td><td>2015-05-06</td><td>Személyes átvétel</td><td>4</td></tr>",
                            "<tr><td>adam4</td><td>2015-05-02</td><td>2015-05-06</td><td>GLS</td><td>4</td></tr>",
                            "<tr><td>anita</td><td>2015-05-02</td><td>2015-05-10</td><td>GLS</td><td>8</td></tr>",
                            "<tr><td>LASZLON</td><td>2015-05-02</td><td>2015-05-12</td><td>GLS</td><td>10</td></tr>",
                            "<tr><td>MIKLOSB</td><td>2015-05-02</td><td>2015-05-11</td><td>Posta</td><td>9</td></tr>",
                            "<tr><td>marton</td><td>2015-05-02</td><td>2015-05-06</td><td>Személyes átvétel</td><td>4</td></tr>",
                            "<tr><td>GABORS</td><td>2015-05-02</td><td>2015-05-11</td><td>Posta</td><td>9</td></tr>",
                            "<tr><td>tibor</td><td>2015-05-02</td><td>2015-05-05</td><td>Posta</td><td>3</td></tr>",
                            "<tr><td>laszlo2</td><td>2015-05-02</td><td>2015-05-12</td><td>Személyes átvétel</td><td>10</td></tr>",
                            "<tr><td>jozsef2</td><td>2015-05-02</td><td>2015-05-08</td><td>Személyes átvétel</td><td>6</td></tr>",
                            "<tr><td>RENATAK</td><td>2015-05-02</td><td>2015-05-09</td><td>GLS</td><td>7</td></tr>",
                            "<tr><td>peter4</td><td>2015-05-02</td><td>2015-05-08</td><td>Személyes átvétel</td><td>6</td></tr>",
                            "<tr><td>edit</td><td>2015-05-02</td><td>2015-05-07</td><td>Posta</td><td>5</td></tr>",
                            "<tr><td>attila4</td><td>2015-05-02</td><td>2015-05-11</td><td>Posta</td><td>9</td></tr>",
                            "<tr><td>nikoletta4</td><td>2015-05-02</td><td>2015-05-09</td><td>Posta</td><td>7</td></tr>",
                            "<tr><td>attila1</td><td>2015-05-02</td><td>2015-05-07</td><td>Posta</td><td>5</td></tr>",
                            "<tr><td>edit</td><td>2015-05-02</td><td>2015-05-09</td><td>GLS</td><td>7</td></tr>",
                            "<tr><td>BEATRIXK</td><td>2015-05-02</td><td>2015-05-09</td><td>Személyes átvétel</td><td>7</td></tr>",
                            "<tr><td>ESZTERE</td><td>2015-05-02</td><td>2015-05-08</td><td>GLS</td><td>6</td></tr>",
                            "<tr><td>TAMASF</td><td>2015-05-02</td><td>2015-05-05</td><td>Posta</td><td>3</td></tr>",
                            "<tr><td>zsolt1</td><td>2015-05-02</td><td>2015-05-09</td><td>GLS</td><td>7</td></tr>",
                            "<tr><td>veronika4</td><td>2015-05-02</td><td>2015-05-04</td><td>Személyes átvétel</td><td>2</td></tr>",
                            "<tr><td>roland1</td><td>2015-05-02</td><td>2015-05-10</td><td>Személyes átvétel</td><td>8</td></tr>",
                            "<tr><td>anett3</td><td>2015-05-02</td><td>2015-05-10</td><td>GLS</td><td>8</td></tr>",
                            "<tr><td>NIKOLETTAT</td><td>2015-05-02</td><td>2015-05-09</td><td>Posta</td><td>7</td></tr>",
                            "<tr><td>andras41</td><td>2015-05-02</td><td>2015-05-04</td><td>Posta</td><td>2</td></tr>",
                            "<tr><td>lajos</td><td>2015-05-02</td><td>2015-05-10</td><td>Személyes átvétel</td><td>8</td></tr>",
                            "<tr><td>daniel1</td><td>2015-05-02</td><td>2015-05-09</td><td>GLS</td><td>7</td></tr>",
                            "<tr><td>NIKOLETTAT</td><td>2015-05-02</td><td>2015-05-05</td><td>GLS</td><td>3</td></tr>",
                            "<tr><td>ARPADH</td><td>2015-05-02</td><td>2015-05-05</td><td>GLS</td><td>3</td></tr>",
                            "<tr><td>peter4</td><td>2015-05-02</td><td>2015-05-06</td><td>Személyes átvétel</td><td>4</td></tr>",
                            "<tr><td>julia4</td><td>2015-05-03</td><td>2015-05-09</td><td>Személyes átvétel</td><td>6</td></tr>",
                            "<tr><td>katalin</td><td>2015-05-03</td><td>2015-05-06</td><td>Posta</td><td>3</td></tr>",
                            "<tr><td>timea2</td><td>2015-05-03</td><td>2015-05-07</td><td>Személyes átvétel</td><td>4</td></tr>",
                            "<tr><td>vivien3</td><td>2015-05-03</td><td>2015-05-06</td><td>Személyes átvétel</td><td>3</td></tr>",
                            "<tr><td>ISTVANV</td><td>2015-05-03</td><td>2015-05-06</td><td>GLS</td><td>3</td></tr>",
                            "<tr><td>ISTVANV</td><td>2015-05-03</td><td>2015-05-12</td><td>Személyes átvétel</td><td>9</td></tr>",
                            "<tr><td>ANNAMARIAR</td><td>2015-05-03</td><td>2015-05-13</td><td>GLS</td><td>10</td></tr>",
                            "<tr><td>KRISZTINAG</td><td>2015-05-03</td><td>2015-05-05</td><td>Posta</td><td>2</td></tr>",
                            "<tr><td>VIKTORK</td><td>2015-05-03</td><td>2015-05-05</td><td>GLS</td><td>2</td></tr>",
                            "<tr><td>balint2</td><td>2015-05-03</td><td>2015-05-11</td><td>GLS</td><td>8</td></tr>",
                            "<tr><td>laszlo1</td><td>2015-05-03</td><td>2015-05-10</td><td>Személyes átvétel</td><td>7</td></tr>",
                            "<tr><td>nikolett3</td><td>2015-05-03</td><td>2015-05-06</td><td>Személyes átvétel</td><td>3</td></tr>",
                            "<tr><td>matyas2</td><td>2015-05-03</td><td>2015-05-06</td><td>GLS</td><td>3</td></tr>",
                            "<tr><td>tunde</td><td>2015-05-03</td><td>2015-05-05</td><td>GLS</td><td>2</td></tr>",
                            "<tr><td>robert2</td><td>2015-05-03</td><td>2015-05-13</td><td>Személyes átvétel</td><td>10</td></tr>",
                            "<tr><td>julia4</td><td>2015-05-03</td><td>2015-05-06</td><td>Posta</td><td>3</td></tr>",
                            "<tr><td>katka</td><td>2015-05-03</td><td>2015-05-13</td><td>GLS</td><td>10</td></tr>",
                            "<tr><td>RENATAK</td><td>2015-05-03</td><td>2015-05-12</td><td>Személyes átvétel</td><td>9</td></tr>",
                            "<tr><td>balint2</td><td>2015-05-03</td><td>2015-05-13</td><td>Posta</td><td>10</td></tr>",
                            "<tr><td>miklos2</td><td>2015-05-03</td><td>2015-05-09</td><td>Személyes átvétel</td><td>6</td></tr>",
                            "<tr><td>zsuzsa</td><td>2015-05-03</td><td>2015-05-11</td><td>GLS</td><td>8</td></tr>",
                            "<tr><td>matyas2</td><td>2015-05-03</td><td>2015-05-08</td><td>GLS</td><td>5</td></tr>",
                            "<tr><td>aniko4</td><td>2015-05-03</td><td>2015-05-05</td><td>Posta</td><td>2</td></tr>",
                            "<tr><td>LASZLOA</td><td>2015-05-03</td><td>2015-05-05</td><td>GLS</td><td>2</td></tr>",
                            "<tr><td>timea</td><td>2015-05-03</td><td>2015-05-10</td><td>Személyes átvétel</td><td>7</td></tr>",
                            "<tr><td>ISTVANV</td><td>2015-05-03</td><td>2015-05-08</td><td>Személyes átvétel</td><td>5</td></tr>",
                            "</table>"
                        ]
                    }
                }
            ],
            "execution_count": 76
        },
        {
            "cell_type": "code",
            "source": [
                "SELECT  SZALL_MOD,\r\n",
                "        AVG(DATEDIFF(DAY, REND_DATUM, SZALL_DATUM)) AS 'Átlagos kiszállítási idő módonként',\r\n",
                "        MAX(DATEDIFF(DAY, REND_DATUM, SZALL_DATUM)) AS 'Leglassabb kisszállítás',\r\n",
                "        MIN(DATEDIFF(DAY, REND_DATUM, SZALL_DATUM)) AS 'Leggyorsabb kisszállítás'\r\n",
                "FROM Rendeles\r\n",
                "GROUP BY SZALL_MOD"
            ],
            "metadata": {
                "azdata_cell_guid": "0d30c5df-d8aa-4f31-a3b1-b55a63132a38",
                "language": "sql"
            },
            "outputs": [
                {
                    "output_type": "display_data",
                    "data": {
                        "text/html": "(3 rows affected)"
                    },
                    "metadata": {}
                },
                {
                    "output_type": "display_data",
                    "data": {
                        "text/html": "Total execution time: 00:00:00.053"
                    },
                    "metadata": {}
                },
                {
                    "output_type": "execute_result",
                    "metadata": {},
                    "execution_count": 85,
                    "data": {
                        "application/vnd.dataresource+json": {
                            "schema": {
                                "fields": [
                                    {
                                        "name": "SZALL_MOD"
                                    },
                                    {
                                        "name": "Átlagos kiszállítási idő módonként"
                                    },
                                    {
                                        "name": "Leglassabb kisszállítás"
                                    },
                                    {
                                        "name": "Leggyorsabb kisszállítás"
                                    }
                                ]
                            },
                            "data": [
                                {
                                    "SZALL_MOD": "GLS",
                                    "Átlagos kiszállítási idő módonként": "6",
                                    "Leglassabb kisszállítás": "10",
                                    "Leggyorsabb kisszállítás": "2"
                                },
                                {
                                    "SZALL_MOD": "Személyes átvétel",
                                    "Átlagos kiszállítási idő módonként": "5",
                                    "Leglassabb kisszállítás": "10",
                                    "Leggyorsabb kisszállítás": "2"
                                },
                                {
                                    "SZALL_MOD": "Posta",
                                    "Átlagos kiszállítási idő módonként": "5",
                                    "Leglassabb kisszállítás": "10",
                                    "Leggyorsabb kisszállítás": "2"
                                }
                            ]
                        },
                        "text/html": [
                            "<table>",
                            "<tr><th>SZALL_MOD</th><th>Átlagos kiszállítási idő módonként</th><th>Leglassabb kisszállítás</th><th>Leggyorsabb kisszállítás</th></tr>",
                            "<tr><td>GLS</td><td>6</td><td>10</td><td>2</td></tr>",
                            "<tr><td>Személyes átvétel</td><td>5</td><td>10</td><td>2</td></tr>",
                            "<tr><td>Posta</td><td>5</td><td>10</td><td>2</td></tr>",
                            "</table>"
                        ]
                    }
                }
            ],
            "execution_count": 85
        },
        {
            "cell_type": "code",
            "source": [
                "SELECT DATEDIFF(DAY, REND_DATUM, SZALL_DATUM) AS 'Napok száma',\r\n",
                "       COUNT(*) AS SzallitasokSzama\r\n",
                "FROM Rendeles\r\n",
                "GROUP BY DATEDIFF(DAY, REND_DATUM, SZALL_DATUM)\r\n",
                "ORDER BY 'Napok száma'\r\n",
                ""
            ],
            "metadata": {
                "azdata_cell_guid": "e5fc386c-7e14-4065-a71c-4d79377e5fcd",
                "language": "sql",
                "tags": []
            },
            "outputs": [
                {
                    "output_type": "display_data",
                    "data": {
                        "text/html": "(9 rows affected)"
                    },
                    "metadata": {}
                },
                {
                    "output_type": "display_data",
                    "data": {
                        "text/html": "Total execution time: 00:00:00.053"
                    },
                    "metadata": {}
                },
                {
                    "output_type": "execute_result",
                    "metadata": {},
                    "execution_count": 148,
                    "data": {
                        "application/vnd.dataresource+json": {
                            "schema": {
                                "fields": [
                                    {
                                        "name": "Napok száma"
                                    },
                                    {
                                        "name": "SzallitasokSzama"
                                    }
                                ]
                            },
                            "data": [
                                {
                                    "Napok száma": "2",
                                    "SzallitasokSzama": "3110"
                                },
                                {
                                    "Napok száma": "3",
                                    "SzallitasokSzama": "3237"
                                },
                                {
                                    "Napok száma": "4",
                                    "SzallitasokSzama": "3091"
                                },
                                {
                                    "Napok száma": "5",
                                    "SzallitasokSzama": "3135"
                                },
                                {
                                    "Napok száma": "6",
                                    "SzallitasokSzama": "3164"
                                },
                                {
                                    "Napok száma": "7",
                                    "SzallitasokSzama": "3021"
                                },
                                {
                                    "Napok száma": "8",
                                    "SzallitasokSzama": "2994"
                                },
                                {
                                    "Napok száma": "9",
                                    "SzallitasokSzama": "3065"
                                },
                                {
                                    "Napok száma": "10",
                                    "SzallitasokSzama": "3268"
                                }
                            ]
                        },
                        "text/html": [
                            "<table>",
                            "<tr><th>Napok száma</th><th>SzallitasokSzama</th></tr>",
                            "<tr><td>2</td><td>3110</td></tr>",
                            "<tr><td>3</td><td>3237</td></tr>",
                            "<tr><td>4</td><td>3091</td></tr>",
                            "<tr><td>5</td><td>3135</td></tr>",
                            "<tr><td>6</td><td>3164</td></tr>",
                            "<tr><td>7</td><td>3021</td></tr>",
                            "<tr><td>8</td><td>2994</td></tr>",
                            "<tr><td>9</td><td>3065</td></tr>",
                            "<tr><td>10</td><td>3268</td></tr>",
                            "</table>"
                        ]
                    }
                }
            ],
            "execution_count": 148
        },
        {
            "cell_type": "markdown",
            "source": [
                "Termék kategória tábla adatai:\n",
                "\n",
                "- Sorai, értékei, NULL sorok számai és a NULL értékek aránya"
            ],
            "metadata": {
                "azdata_cell_guid": "8260a972-d633-4fba-bed1-4d83517d01a7"
            },
            "attachments": {}
        },
        {
            "cell_type": "code",
            "source": [
                "SELECT     \r\n",
                "    COUNT(*) AS 'Sorok száma (db)', \r\n",
                "    COUNT(SZULO_KAT) AS 'Értékek száma (db)',\r\n",
                "    COUNT(*) - COUNT(SZULO_KAT) AS 'NULL értékek száma (%)',\r\n",
                "    ROUND((COUNT(*) - COUNT(SZULO_KAT)) * 100.0 / COUNT(*), 2) AS 'NULL értékek aránya'\r\n",
                "FROM Termekkategoria"
            ],
            "metadata": {
                "azdata_cell_guid": "fb351b16-2ef6-4bc5-ae79-4ed780af1373",
                "language": "sql"
            },
            "outputs": [
                {
                    "output_type": "display_data",
                    "data": {
                        "text/html": "Warning: Null value is eliminated by an aggregate or other SET operation."
                    },
                    "metadata": {}
                },
                {
                    "output_type": "display_data",
                    "data": {
                        "text/html": "(1 row affected)"
                    },
                    "metadata": {}
                },
                {
                    "output_type": "display_data",
                    "data": {
                        "text/html": "Total execution time: 00:00:00.057"
                    },
                    "metadata": {}
                },
                {
                    "output_type": "execute_result",
                    "metadata": {},
                    "execution_count": 108,
                    "data": {
                        "application/vnd.dataresource+json": {
                            "schema": {
                                "fields": [
                                    {
                                        "name": "Sorok száma (db)"
                                    },
                                    {
                                        "name": "Értékek száma (db)"
                                    },
                                    {
                                        "name": "NULL értékek száma (%)"
                                    },
                                    {
                                        "name": "NULL értékek aránya"
                                    }
                                ]
                            },
                            "data": [
                                {
                                    "Sorok száma (db)": "155",
                                    "Értékek száma (db)": "151",
                                    "NULL értékek száma (%)": "4",
                                    "NULL értékek aránya": "2.580000000000"
                                }
                            ]
                        },
                        "text/html": [
                            "<table>",
                            "<tr><th>Sorok száma (db)</th><th>Értékek száma (db)</th><th>NULL értékek száma (%)</th><th>NULL értékek aránya</th></tr>",
                            "<tr><td>155</td><td>151</td><td>4</td><td>2.580000000000</td></tr>",
                            "</table>"
                        ]
                    }
                }
            ],
            "execution_count": 108
        }
    ]
}